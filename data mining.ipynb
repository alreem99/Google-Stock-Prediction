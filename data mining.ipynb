{
 "cells": [
  {
   "cell_type": "markdown",
   "id": "cca87567",
   "metadata": {},
   "source": [
    "\n",
    "# goal \n",
    "\n",
    "The goal of collecting the dataset for \"Google stock prediction\" is to develop predictive models that can forecast future stock prices or trends for Google's stock, aiding investors and analysts in making informed decisions about buying, selling, or holding Google stock.\n",
    "\n"
   ]
  },
  {
   "cell_type": "markdown",
   "id": "770dba42",
   "metadata": {},
   "source": [
    "the link:https://www.kaggle.com/datasets/shreenidhihipparagi/google-stock-prediction\n",
    "show the source data. "
   ]
  },
  {
   "cell_type": "markdown",
   "id": "1f14099a",
   "metadata": {},
   "source": [
    "it consist of 1258 object and 14 attributes.\n",
    "The 14 columns are:\n",
    "\n",
    "symbol : - Name of the company (in this case Google)(unique value).\n",
    "\n",
    "date :- year and date (numeric)\n",
    "\n",
    "close:- closing of stock value(numeric)\n",
    "\n",
    "high:- highest value of stock at that day(numeric)\n",
    "\n",
    "low:- lowest value of stock at that day(numeric)\n",
    "\n",
    "open:- opening value of stock at that day(numeric)\n",
    "\n",
    "volume (numeric)\n",
    "\n",
    "adjClose(numeric)\n",
    "\n",
    "adjHigh(numeric)\n",
    "\n",
    "adjLow(numeric)\n",
    "\n",
    "adjOpen(numeric)\n",
    "\n",
    "adjVolume(numeric)\n",
    "\n",
    "divCash(Binary)\n",
    "\n",
    "splitFactor(Binary)"
   ]
  }
 ],
 "metadata": {
  "kernelspec": {
   "display_name": "R",
   "language": "R",
   "name": "ir"
  },
  "language_info": {
   "codemirror_mode": "r",
   "file_extension": ".r",
   "mimetype": "text/x-r-source",
   "name": "R",
   "pygments_lexer": "r",
   "version": "3.6.1"
  }
 },
 "nbformat": 4,
 "nbformat_minor": 5
}
