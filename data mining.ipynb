{
 "cells": [
  {
   "cell_type": "markdown",
   "id": "157cd977",
   "metadata": {},
   "source": [
    "\n",
    "# goal \n",
    "\n",
    "The goal of collecting the dataset for \"Google stock prediction\" is to develop predictive models that can forecast future stock prices or trends for Google's stock, aiding investors and analysts in making informed decisions about buying, selling, or holding Google stock.\n",
    "\n"
   ]
  },
  {
   "cell_type": "markdown",
   "id": "7b8f7fea",
   "metadata": {},
   "source": [
    "the link:https://www.kaggle.com/datasets/shreenidhihipparagi/google-stock-prediction\n",
    "show the source data. "
   ]
  },
  {
   "cell_type": "markdown",
   "id": "a457304d",
   "metadata": {},
   "source": [
    "it consist of 1258 object and 14 attributes.\n",
    "The 14 columns are:\n",
    "\n",
    "symbol : - Name of the company (in this case Google)(unique value).\n",
    "date :- year and date (numeric)\n",
    "close:- closing of stock value(numeric)\n",
    "high:- highest value of stock at that day(numeric)\n",
    "low:- lowest value of stock at that day(numeric)\n",
    "open:- opening value of stock at that day(numeric)\n",
    "volume (numeric)\n",
    "adjClose(numeric)\n",
    "adjHigh(numeric)\n",
    "adjLow(numeric)\n",
    "adjOpen(numeric)\n",
    "adjVolume(numeric)\n",
    "divCash(Binary)\n",
    "splitFactor(Binary)"
   ]
  }
 ],
 "metadata": {
  "kernelspec": {
   "display_name": "R",
   "language": "R",
   "name": "ir"
  },
  "language_info": {
   "codemirror_mode": "r",
   "file_extension": ".r",
   "mimetype": "text/x-r-source",
   "name": "R",
   "pygments_lexer": "r",
   "version": "3.6.1"
  }
 },
 "nbformat": 4,
 "nbformat_minor": 5
}
