{
 "cells": [
  {
   "cell_type": "markdown",
   "id": "0d4b3831",
   "metadata": {},
   "source": [
    "# Goal \n",
    "\n",
    "The goal of collecting the dataset for \"Google stock prediction\" is to develop predictive models that can forecast the future closing price of a stock on a trading day, as the datasets provide an excellent opportunity to develop models that can learn patterns and trends, enabling them to make predictions on future new data, aiding investors and analysts in making informed decisions about buying, selling,or holding google stock. \n",
    "\n",
    "\n",
    "\n",
    "\n"
   ]
  },
  {
   "cell_type": "markdown",
   "id": "8a3c2422",
   "metadata": {},
   "source": [
   
    "# Dataset Link\n",
    "https://www.kaggle.com/datasets/shreenidhihipparagi/google-stock-prediction"
   ]
  },
  {
   "cell_type": "markdown",
   "id": "6b770508",
   "metadata": {},
   "source": [
    "# General information: \n",
    "\n",
    "Number of Attributes: 14 \n",
    "\n",
    " Number of objects: 1258 \n",
    " # Class labels : Closing price of a stock prediction\n",
    "\n",
    "|Attribute Name  | Data Type   |        Description                                     | \n",
    "| ---------------     | --------------------- | ----------------------------------------------- | \n",
    "|     symbol     | unique value            | Name of company                                | \n",
    "| date     | numeric               | date: day, month, and year.                        | \n",
    "| close         | numeric          | closing price of a stock is the final price at which a stock is traded on a given trading day.     |\n",
    "| high   | numeric       | The highest price at which a stock traded during a specific trading day.      | \n",
    "|low      | numeric       |  The lowest price at which a stock traded during a specific trading day.     |\n",
    "| open |       numeric       | The price of a stock at the beginning of a trading day. It's the price at which the first trade occurred on that day.   |\n",
    "|Volume             | numeric         | The total number of shares traded during a trading day. Volume is a measure of market activity and liquidity for a stock. |\n",
    "| adjClose   |     numeric          |  The closing price of a stock adjusted for any corporate actions like dividends, stock splits, or other events that could affect the stock price.  |\n",
    "|    adjHigh  |    numeric            |   The highest price of a stock during a trading day, adjusted for any corporate actions.\n",
    "| \n",
    "|    adjLow        |      numeric          |  The lowest price of a stock during a trading day, adjusted for any corporate actions.\n",
    "|\n",
    "|   adjOpen    |       numeric     |       The opening price of a stock at the beginning of a trading day, adjusted for any corporate actions.  |\n",
    "|      adjVolume | numeric             |   The trading volume of a stock adjusted for any corporate actions. This can provide a clearer picture of trading activity.   |\n",
    "|       divCash      |     Binary         |     The amount of money paid by a company to its shareholders as a portion of its profits. Dividends are typically paid on a per-share basis                   |\n",
    "|  splitFactor   |     Binary          |     If a stock undergoes a stock split, the split factor indicates the ratio by which the shares were split. For instance, a 2-for-1 split means that for every old share, you now have 2 new shares.                  |\n",
    "\n",
    "\n",
    "\n"
   ]
  },
  {
   "cell_type": "code",
   "execution_count": null,
   "id": "9fcf5b79",
   "metadata": {},
   "outputs": [],
   "source": []
  }
 ],
 "metadata": {
  "kernelspec": {
   "display_name": "R",
   "language": "R",
   "name": "ir"
  },
  "language_info": {
   "codemirror_mode": "r",
   "file_extension": ".r",
   "mimetype": "text/x-r-source",
   "name": "R",
   "pygments_lexer": "r",
   "version": "3.6.1"
  }
 },
 "nbformat": 4,
 "nbformat_minor": 5
}
